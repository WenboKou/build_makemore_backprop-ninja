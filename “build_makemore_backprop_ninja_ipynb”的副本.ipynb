{
  "cells": [
    {
      "cell_type": "markdown",
      "metadata": {
        "id": "view-in-github",
        "colab_type": "text"
      },
      "source": [
        "<a href=\"https://colab.research.google.com/github/WenboKou/build_makemore_backprop-ninja/blob/main/%E2%80%9Cbuild_makemore_backprop_ninja_ipynb%E2%80%9D%E7%9A%84%E5%89%AF%E6%9C%AC.ipynb\" target=\"_parent\"><img src=\"https://colab.research.google.com/assets/colab-badge.svg\" alt=\"Open In Colab\"/></a>"
      ]
    },
    {
      "cell_type": "markdown",
      "metadata": {
        "id": "rToK0Tku8PPn"
      },
      "source": [
        "## makemore: becoming a backprop ninja"
      ]
    },
    {
      "cell_type": "code",
      "execution_count": 24,
      "metadata": {
        "id": "8sFElPqq8PPp"
      },
      "outputs": [],
      "source": [
        "# there no change change in the first several cells from last lecture"
      ]
    },
    {
      "cell_type": "code",
      "execution_count": 25,
      "metadata": {
        "id": "ChBbac4y8PPq"
      },
      "outputs": [],
      "source": [
        "import torch\n",
        "import torch.nn.functional as F\n",
        "import matplotlib.pyplot as plt # for making figures\n",
        "%matplotlib inline"
      ]
    },
    {
      "cell_type": "code",
      "execution_count": 26,
      "metadata": {
        "colab": {
          "base_uri": "https://localhost:8080/"
        },
        "id": "x6GhEWW18aCS",
        "outputId": "1d7949a5-3f1b-4129-cabf-9b1237fd18c9"
      },
      "outputs": [
        {
          "output_type": "stream",
          "name": "stdout",
          "text": [
            "--2024-06-30 13:49:58--  https://raw.githubusercontent.com/karpathy/makemore/master/names.txt\n",
            "Resolving raw.githubusercontent.com (raw.githubusercontent.com)... 185.199.108.133, 185.199.109.133, 185.199.110.133, ...\n",
            "Connecting to raw.githubusercontent.com (raw.githubusercontent.com)|185.199.108.133|:443... connected.\n",
            "HTTP request sent, awaiting response... 200 OK\n",
            "Length: 228145 (223K) [text/plain]\n",
            "Saving to: ‘names.txt.1’\n",
            "\n",
            "names.txt.1         100%[===================>] 222.80K  --.-KB/s    in 0.02s   \n",
            "\n",
            "2024-06-30 13:49:59 (9.67 MB/s) - ‘names.txt.1’ saved [228145/228145]\n",
            "\n"
          ]
        }
      ],
      "source": [
        "# download the names.txt file from github\n",
        "!wget https://raw.githubusercontent.com/karpathy/makemore/master/names.txt"
      ]
    },
    {
      "cell_type": "code",
      "execution_count": 27,
      "metadata": {
        "colab": {
          "base_uri": "https://localhost:8080/"
        },
        "id": "klmu3ZG08PPr",
        "outputId": "87f45638-ec2d-4211-b286-b32824afec28"
      },
      "outputs": [
        {
          "output_type": "stream",
          "name": "stdout",
          "text": [
            "32033\n",
            "15\n",
            "['emma', 'olivia', 'ava', 'isabella', 'sophia', 'charlotte', 'mia', 'amelia']\n"
          ]
        }
      ],
      "source": [
        "# read in all the words\n",
        "words = open('names.txt', 'r').read().splitlines()\n",
        "print(len(words))\n",
        "print(max(len(w) for w in words))\n",
        "print(words[:8])"
      ]
    },
    {
      "cell_type": "code",
      "execution_count": 28,
      "metadata": {
        "colab": {
          "base_uri": "https://localhost:8080/"
        },
        "id": "BCQomLE_8PPs",
        "outputId": "9c6a0839-74d6-4613-ce2c-96f5a5aa8839"
      },
      "outputs": [
        {
          "output_type": "stream",
          "name": "stdout",
          "text": [
            "{1: 'a', 2: 'b', 3: 'c', 4: 'd', 5: 'e', 6: 'f', 7: 'g', 8: 'h', 9: 'i', 10: 'j', 11: 'k', 12: 'l', 13: 'm', 14: 'n', 15: 'o', 16: 'p', 17: 'q', 18: 'r', 19: 's', 20: 't', 21: 'u', 22: 'v', 23: 'w', 24: 'x', 25: 'y', 26: 'z', 0: '.'}\n",
            "27\n"
          ]
        }
      ],
      "source": [
        "# build the vocabulary of characters and mappings to/from integers\n",
        "chars = sorted(list(set(''.join(words))))\n",
        "stoi = {s:i+1 for i,s in enumerate(chars)}\n",
        "stoi['.'] = 0\n",
        "itos = {i:s for s,i in stoi.items()}\n",
        "vocab_size = len(itos)\n",
        "print(itos)\n",
        "print(vocab_size)"
      ]
    },
    {
      "cell_type": "code",
      "execution_count": 29,
      "metadata": {
        "colab": {
          "base_uri": "https://localhost:8080/"
        },
        "id": "V_zt2QHr8PPs",
        "outputId": "c4d6da8b-f151-426c-8bc3-024a43cfdda3"
      },
      "outputs": [
        {
          "output_type": "stream",
          "name": "stdout",
          "text": [
            "torch.Size([182625, 3]) torch.Size([182625])\n",
            "torch.Size([22655, 3]) torch.Size([22655])\n",
            "torch.Size([22866, 3]) torch.Size([22866])\n"
          ]
        }
      ],
      "source": [
        "# build the dataset\n",
        "block_size = 3 # context length: how many characters do we take to predict the next one?\n",
        "\n",
        "def build_dataset(words):\n",
        "  X, Y = [], []\n",
        "\n",
        "  for w in words:\n",
        "    context = [0] * block_size\n",
        "    for ch in w + '.':\n",
        "      ix = stoi[ch]\n",
        "      X.append(context)\n",
        "      Y.append(ix)\n",
        "      context = context[1:] + [ix] # crop and append\n",
        "\n",
        "  X = torch.tensor(X)\n",
        "  Y = torch.tensor(Y)\n",
        "  print(X.shape, Y.shape)\n",
        "  return X, Y\n",
        "\n",
        "import random\n",
        "random.seed(42)\n",
        "random.shuffle(words)\n",
        "n1 = int(0.8*len(words))\n",
        "n2 = int(0.9*len(words))\n",
        "\n",
        "Xtr,  Ytr  = build_dataset(words[:n1])     # 80%\n",
        "Xdev, Ydev = build_dataset(words[n1:n2])   # 10%\n",
        "Xte,  Yte  = build_dataset(words[n2:])     # 10%"
      ]
    },
    {
      "cell_type": "code",
      "execution_count": 30,
      "metadata": {
        "id": "eg20-vsg8PPt"
      },
      "outputs": [],
      "source": [
        "# ok biolerplate done, now we get to the action:"
      ]
    },
    {
      "cell_type": "code",
      "execution_count": 31,
      "metadata": {
        "id": "MJPU8HT08PPu"
      },
      "outputs": [],
      "source": [
        "# utility function we will use later when comparing manual gradients to PyTorch gradients\n",
        "def cmp(s, dt, t):\n",
        "  ex = torch.all(dt == t.grad).item()\n",
        "  app = torch.allclose(dt, t.grad)\n",
        "  maxdiff = (dt - t.grad).abs().max().item()\n",
        "  print(f'{s:15s} | exact: {str(ex):5s} | approximate: {str(app):5s} | maxdiff: {maxdiff}')"
      ]
    },
    {
      "cell_type": "code",
      "execution_count": 32,
      "metadata": {
        "colab": {
          "base_uri": "https://localhost:8080/"
        },
        "id": "ZlFLjQyT8PPu",
        "outputId": "89ff5465-2a0e-4fda-f8f6-5fc716a23353"
      },
      "outputs": [
        {
          "output_type": "stream",
          "name": "stdout",
          "text": [
            "4137\n"
          ]
        }
      ],
      "source": [
        "n_embd = 10 # the dimensionality of the character embedding vectors\n",
        "n_hidden = 64 # the number of neurons in the hidden layer of the MLP\n",
        "\n",
        "g = torch.Generator().manual_seed(2147483647) # for reproducibility\n",
        "C  = torch.randn((vocab_size, n_embd),            generator=g)\n",
        "# Layer 1\n",
        "W1 = torch.randn((n_embd * block_size, n_hidden), generator=g) * (5/3)/((n_embd * block_size)**0.5)\n",
        "b1 = torch.randn(n_hidden,                        generator=g) * 0.1 # using b1 just for fun, it's useless because of BN\n",
        "# Layer 2\n",
        "W2 = torch.randn((n_hidden, vocab_size),          generator=g) * 0.1\n",
        "b2 = torch.randn(vocab_size,                      generator=g) * 0.1\n",
        "# BatchNorm parameters\n",
        "bngain = torch.randn((1, n_hidden))*0.1 + 1.0\n",
        "bnbias = torch.randn((1, n_hidden))*0.1\n",
        "\n",
        "# Note: I am initializating many of these parameters in non-standard ways\n",
        "# because sometimes initializating with e.g. all zeros could mask an incorrect\n",
        "# implementation of the backward pass.\n",
        "\n",
        "parameters = [C, W1, b1, W2, b2, bngain, bnbias]\n",
        "print(sum(p.nelement() for p in parameters)) # number of parameters in total\n",
        "for p in parameters:\n",
        "  p.requires_grad = True"
      ]
    },
    {
      "cell_type": "code",
      "execution_count": 33,
      "metadata": {
        "id": "QY-y96Y48PPv"
      },
      "outputs": [],
      "source": [
        "batch_size = 32\n",
        "n = batch_size # a shorter variable also, for convenience\n",
        "# construct a minibatch\n",
        "ix = torch.randint(0, Xtr.shape[0], (batch_size,), generator=g)\n",
        "Xb, Yb = Xtr[ix], Ytr[ix] # batch X,Y"
      ]
    },
    {
      "cell_type": "code",
      "execution_count": 34,
      "metadata": {
        "colab": {
          "base_uri": "https://localhost:8080/"
        },
        "id": "8ofj1s6d8PPv",
        "outputId": "6b83f0cd-a577-450e-ef1a-f20fa9d6ef9b"
      },
      "outputs": [
        {
          "output_type": "execute_result",
          "data": {
            "text/plain": [
              "tensor(3.3376, grad_fn=<NegBackward0>)"
            ]
          },
          "metadata": {},
          "execution_count": 34
        }
      ],
      "source": [
        "# forward pass, \"chunkated\" into smaller steps that are possible to backward one at a time\n",
        "\n",
        "emb = C[Xb] # embed the characters into vectors\n",
        "embcat = emb.view(emb.shape[0], -1) # concatenate the vectors\n",
        "# Linear layer 1\n",
        "hprebn = embcat @ W1 + b1 # hidden layer pre-activation\n",
        "# BatchNorm layer\n",
        "bnmeani = 1/n*hprebn.sum(0, keepdim=True)\n",
        "bndiff = hprebn - bnmeani\n",
        "bndiff2 = bndiff**2\n",
        "bnvar = 1/(n-1)*(bndiff2).sum(0, keepdim=True) # note: Bessel's correction (dividing by n-1, not n)\n",
        "bnvar_inv = (bnvar + 1e-5)**-0.5\n",
        "bnraw = bndiff * bnvar_inv\n",
        "hpreact = bngain * bnraw + bnbias\n",
        "# Non-linearity\n",
        "h = torch.tanh(hpreact) # hidden layer\n",
        "# Linear layer 2\n",
        "logits = h @ W2 + b2 # output layer\n",
        "# cross entropy loss (same as F.cross_entropy(logits, Yb))\n",
        "logit_maxes = logits.max(1, keepdim=True).values\n",
        "norm_logits = logits - logit_maxes # subtract max for numerical stability\n",
        "counts = norm_logits.exp()\n",
        "counts_sum = counts.sum(1, keepdims=True)\n",
        "counts_sum_inv = counts_sum**-1 # if I use (1.0 / counts_sum) instead then I can't get backprop to be bit exact...\n",
        "probs = counts * counts_sum_inv\n",
        "logprobs = probs.log()\n",
        "loss = -logprobs[range(n), Yb].mean()\n",
        "\n",
        "# PyTorch backward pass\n",
        "for p in parameters:\n",
        "  p.grad = None\n",
        "for t in [logprobs, probs, counts, counts_sum, counts_sum_inv, # afaik there is no cleaner way\n",
        "          norm_logits, logit_maxes, logits, h, hpreact, bnraw,\n",
        "         bnvar_inv, bnvar, bndiff2, bndiff, hprebn, bnmeani,\n",
        "         embcat, emb]:\n",
        "  t.retain_grad()\n",
        "loss.backward()\n",
        "loss"
      ]
    },
    {
      "cell_type": "code",
      "execution_count": 35,
      "metadata": {
        "colab": {
          "base_uri": "https://localhost:8080/"
        },
        "id": "YjudY21pBfdt",
        "outputId": "ffd37883-4abd-4aef-eea8-0258829788e5"
      },
      "outputs": [
        {
          "output_type": "execute_result",
          "data": {
            "text/plain": [
              "(torch.Size([32, 3]), torch.Size([32, 3, 10]), torch.Size([27, 10]))"
            ]
          },
          "metadata": {},
          "execution_count": 35
        }
      ],
      "source": [
        "Xb.shape, emb.shape, C.shape"
      ]
    },
    {
      "cell_type": "code",
      "execution_count": 36,
      "metadata": {
        "colab": {
          "base_uri": "https://localhost:8080/"
        },
        "id": "mO-8aqxK8PPw",
        "outputId": "ebe18f5d-4d41-49f8-c87a-30432b57acc8"
      },
      "outputs": [
        {
          "output_type": "stream",
          "name": "stdout",
          "text": [
            "logprobs        | exact: True  | approximate: True  | maxdiff: 0.0\n",
            "probs           | exact: True  | approximate: True  | maxdiff: 0.0\n",
            "counts_sum_inv  | exact: True  | approximate: True  | maxdiff: 0.0\n",
            "counts_sum      | exact: True  | approximate: True  | maxdiff: 0.0\n",
            "counts          | exact: True  | approximate: True  | maxdiff: 0.0\n",
            "norm_logits     | exact: True  | approximate: True  | maxdiff: 0.0\n",
            "logit_maxes     | exact: True  | approximate: True  | maxdiff: 0.0\n",
            "logits          | exact: True  | approximate: True  | maxdiff: 0.0\n",
            "h               | exact: True  | approximate: True  | maxdiff: 0.0\n",
            "W2              | exact: True  | approximate: True  | maxdiff: 0.0\n",
            "b2              | exact: True  | approximate: True  | maxdiff: 0.0\n",
            "hpreact         | exact: False | approximate: True  | maxdiff: 4.656612873077393e-10\n",
            "bngain          | exact: False | approximate: True  | maxdiff: 1.862645149230957e-09\n",
            "bnbias          | exact: False | approximate: True  | maxdiff: 3.725290298461914e-09\n",
            "bnraw           | exact: False | approximate: True  | maxdiff: 9.313225746154785e-10\n",
            "bnvar_inv       | exact: False | approximate: True  | maxdiff: 1.862645149230957e-09\n",
            "bnvar           | exact: False | approximate: True  | maxdiff: 9.313225746154785e-10\n",
            "bndiff2         | exact: False | approximate: True  | maxdiff: 2.9103830456733704e-11\n",
            "bndiff          | exact: False | approximate: True  | maxdiff: 4.656612873077393e-10\n",
            "bnmeani         | exact: False | approximate: True  | maxdiff: 3.725290298461914e-09\n",
            "hprebn          | exact: False | approximate: True  | maxdiff: 4.656612873077393e-10\n",
            "embcat          | exact: False | approximate: True  | maxdiff: 1.3969838619232178e-09\n",
            "W1              | exact: False | approximate: True  | maxdiff: 7.450580596923828e-09\n",
            "b1              | exact: False | approximate: True  | maxdiff: 4.190951585769653e-09\n",
            "emb             | exact: False | approximate: True  | maxdiff: 1.3969838619232178e-09\n",
            "C               | exact: False | approximate: True  | maxdiff: 7.450580596923828e-09\n"
          ]
        }
      ],
      "source": [
        "# Exercise 1: backprop through the whole thing manually,\n",
        "# backpropagating through exactly all of the variables\n",
        "# as they are defined in the forward pass above, one by one\n",
        "\n",
        "# -----------------\n",
        "# YOUR CODE HERE :)\n",
        "dlogprobs = torch.zeros(logprobs.shape)\n",
        "dlogprobs[range(n), Yb] = -1/n\n",
        "\n",
        "dprobs = dlogprobs * 1/probs\n",
        "\n",
        "dcounts_sum_inv = (dprobs * counts).sum(1, keepdim=True)\n",
        "dcounts_sum = -counts_sum**-2 * dcounts_sum_inv\n",
        "dcounts = dcounts_sum * torch.ones(counts_sum.shape) + dprobs * counts_sum_inv\n",
        "dnorm_logits = counts * dcounts\n",
        "\n",
        "dlogit_maxes = -dnorm_logits.sum(1, keepdim=True)\n",
        "\n",
        "dlogits = dnorm_logits.clone()\n",
        "dlogits[range(dlogits.size(0)), torch.argmax(logits, dim=1)] += dlogit_maxes.clone().squeeze()\n",
        "# dlogits += F.one_hot(logits.max(1).indices, num_classes=logits.shape[1]) * dlogit_maxes\n",
        "\n",
        "dh = dlogits @ W2.T # (32, 27) @ (64, 27).T = (32, 64)\n",
        "\n",
        "dW2 = h.T @ dlogits # (32, 64).T @ (32, 27) = (64, 27)\n",
        "\n",
        "db2 = dlogits.sum(0)\n",
        "\n",
        "dhpreact = (1.0 - h**2) * dh # (32, 64)\n",
        "\n",
        "dbngain = (bnraw * dhpreact).sum(0, keepdim=True)\n",
        "\n",
        "dbnbias = dhpreact.sum(0, keepdim=True)\n",
        "\n",
        "dbnraw = bngain * dhpreact\n",
        "\n",
        "dbnvar_inv = (dbnraw * bndiff).sum(0, keepdim=True)\n",
        "\n",
        "dbnvar = -0.5 * (bnvar + 1e-5)**-1.5 * dbnvar_inv\n",
        "\n",
        "dbndiff2 = dbnvar * 1/(n-1) * torch.ones_like(bndiff2)\n",
        "\n",
        "dbndiff = 2 * bndiff * dbndiff2 + dbnraw * bnvar_inv\n",
        "\n",
        "dbnmeani = -dbndiff.sum(0, keepdim=True)\n",
        "\n",
        "dhprebn = dbndiff + dbnmeani * 1/n\n",
        "\n",
        "dembcat = dhprebn @ W1.T # (32, 30) = (32, 64) @ (30, 64).T\n",
        "\n",
        "dW1 = embcat.T @ dhprebn # (30, 64) = (32, 30).T @ (32, 64)\n",
        "\n",
        "db1 = dhprebn.sum(0)\n",
        "\n",
        "demb = dembcat.view(emb.shape)\n",
        "\n",
        "dC = torch.zeros_like(C)\n",
        "for i in range(Xb.shape[0]):\n",
        "  for j in range(Xb.shape[1]):\n",
        "    dC[Xb[i, j]] += demb[i, j]\n",
        "\n",
        "# -----------------\n",
        "\n",
        "cmp('logprobs', dlogprobs, logprobs)\n",
        "cmp('probs', dprobs, probs)\n",
        "cmp('counts_sum_inv', dcounts_sum_inv, counts_sum_inv)\n",
        "cmp('counts_sum', dcounts_sum, counts_sum)\n",
        "cmp('counts', dcounts, counts)\n",
        "cmp('norm_logits', dnorm_logits, norm_logits)\n",
        "cmp('logit_maxes', dlogit_maxes, logit_maxes)\n",
        "cmp('logits', dlogits, logits)\n",
        "cmp('h', dh, h)\n",
        "cmp('W2', dW2, W2)\n",
        "cmp('b2', db2, b2)\n",
        "cmp('hpreact', dhpreact, hpreact)\n",
        "cmp('bngain', dbngain, bngain)\n",
        "cmp('bnbias', dbnbias, bnbias)\n",
        "cmp('bnraw', dbnraw, bnraw)\n",
        "cmp('bnvar_inv', dbnvar_inv, bnvar_inv)\n",
        "cmp('bnvar', dbnvar, bnvar)\n",
        "cmp('bndiff2', dbndiff2, bndiff2)\n",
        "cmp('bndiff', dbndiff, bndiff)\n",
        "cmp('bnmeani', dbnmeani, bnmeani)\n",
        "cmp('hprebn', dhprebn, hprebn)\n",
        "cmp('embcat', dembcat, embcat)\n",
        "cmp('W1', dW1, W1)\n",
        "cmp('b1', db1, b1)\n",
        "cmp('emb', demb, emb)\n",
        "cmp('C', dC, C)"
      ]
    },
    {
      "cell_type": "code",
      "execution_count": 37,
      "metadata": {
        "colab": {
          "base_uri": "https://localhost:8080/"
        },
        "id": "ebLtYji_8PPw",
        "outputId": "186446b0-d96c-4d2f-99da-36e87c36855c"
      },
      "outputs": [
        {
          "output_type": "stream",
          "name": "stdout",
          "text": [
            "3.3375637531280518 diff: 0.0\n"
          ]
        }
      ],
      "source": [
        "# Exercise 2: backprop through cross_entropy but all in one go\n",
        "# to complete this challenge look at the mathematical expression of the loss,\n",
        "# take the derivative, simplify the expression, and just write it out\n",
        "\n",
        "# forward pass\n",
        "\n",
        "# before:\n",
        "# logit_maxes = logits.max(1, keepdim=True).values\n",
        "# norm_logits = logits - logit_maxes # subtract max for numerical stability\n",
        "# counts = norm_logits.exp()\n",
        "# counts_sum = counts.sum(1, keepdims=True)\n",
        "# counts_sum_inv = counts_sum**-1 # if I use (1.0 / counts_sum) instead then I can't get backprop to be bit exact...\n",
        "# probs = counts * counts_sum_inv\n",
        "# logprobs = probs.log()\n",
        "# loss = -logprobs[range(n), Yb].mean()\n",
        "\n",
        "# now:\n",
        "loss_fast = F.cross_entropy(logits, Yb)\n",
        "print(loss_fast.item(), 'diff:', (loss_fast - loss).item())"
      ]
    },
    {
      "cell_type": "code",
      "execution_count": 38,
      "metadata": {
        "colab": {
          "base_uri": "https://localhost:8080/"
        },
        "id": "SZhR6W5J1iIA",
        "outputId": "da1708a6-63ac-428c-d75d-a98ece5663af"
      },
      "outputs": [
        {
          "output_type": "execute_result",
          "data": {
            "text/plain": [
              "(torch.Size([32, 27]), torch.Size([32]), torch.Size([32]))"
            ]
          },
          "metadata": {},
          "execution_count": 38
        }
      ],
      "source": [
        "logits.shape, Yb.shape, dlogits[range(logits.shape[0]), Yb].shape"
      ]
    },
    {
      "cell_type": "code",
      "execution_count": 39,
      "metadata": {
        "id": "-gCXbB4C8PPx",
        "colab": {
          "base_uri": "https://localhost:8080/"
        },
        "outputId": "cd5c6e29-6488-4edf-ce8a-4f24853d4bbb"
      },
      "outputs": [
        {
          "output_type": "stream",
          "name": "stdout",
          "text": [
            "logits          | exact: False | approximate: True  | maxdiff: 7.683411240577698e-09\n"
          ]
        }
      ],
      "source": [
        "# backward pass\n",
        "\n",
        "# -----------------\n",
        "# YOUR CODE HERE :)\n",
        "dlogits = None # TODO. my solution is 3 lines\n",
        "# -----------------\n",
        "dlogits = F.softmax(logits, dim=1)\n",
        "dlogits[range(logits.shape[0]), Yb] -= 1\n",
        "dlogits /= logits.shape[0]\n",
        "cmp('logits', dlogits, logits) # I can only get approximate to be true, my maxdiff is 6e-9"
      ]
    },
    {
      "cell_type": "code",
      "execution_count": 40,
      "metadata": {
        "id": "hd-MkhB68PPy",
        "colab": {
          "base_uri": "https://localhost:8080/"
        },
        "outputId": "b50440bd-4286-4170-daca-d5e9dd980a4e"
      },
      "outputs": [
        {
          "output_type": "stream",
          "name": "stdout",
          "text": [
            "max diff: tensor(4.7684e-07, grad_fn=<MaxBackward1>)\n"
          ]
        }
      ],
      "source": [
        "# Exercise 3: backprop through batchnorm but all in one go\n",
        "# to complete this challenge look at the mathematical expression of the output of batchnorm,\n",
        "# take the derivative w.r.t. its input, simplify the expression, and just write it out\n",
        "# BatchNorm paper: https://arxiv.org/abs/1502.03167\n",
        "\n",
        "# forward pass\n",
        "\n",
        "# before:\n",
        "# bnmeani = 1/n*hprebn.sum(0, keepdim=True)\n",
        "# bndiff = hprebn - bnmeani\n",
        "# bndiff2 = bndiff**2\n",
        "# bnvar = 1/(n-1)*(bndiff2).sum(0, keepdim=True) # note: Bessel's correction (dividing by n-1, not n)\n",
        "# bnvar_inv = (bnvar + 1e-5)**-0.5\n",
        "# bnraw = bndiff * bnvar_inv\n",
        "# hpreact = bngain * bnraw + bnbias\n",
        "\n",
        "# now:\n",
        "hpreact_fast = bngain * (hprebn - hprebn.mean(0, keepdim=True)) / torch.sqrt(hprebn.var(0, keepdim=True, unbiased=True) + 1e-5) + bnbias\n",
        "print('max diff:', (hpreact_fast - hpreact).abs().max())"
      ]
    },
    {
      "cell_type": "code",
      "source": [
        "hprebn.shape, hpreact.shape"
      ],
      "metadata": {
        "colab": {
          "base_uri": "https://localhost:8080/"
        },
        "id": "PzRYxHNW7-Ks",
        "outputId": "745f8ebb-f0c1-461d-c7d2-e5b8c7439403"
      },
      "execution_count": 41,
      "outputs": [
        {
          "output_type": "execute_result",
          "data": {
            "text/plain": [
              "(torch.Size([32, 64]), torch.Size([32, 64]))"
            ]
          },
          "metadata": {},
          "execution_count": 41
        }
      ]
    },
    {
      "cell_type": "code",
      "execution_count": 42,
      "metadata": {
        "id": "POdeZSKT8PPy",
        "colab": {
          "base_uri": "https://localhost:8080/"
        },
        "outputId": "6ccbade8-fe52-47de-baeb-cd925e6c11cd"
      },
      "outputs": [
        {
          "output_type": "stream",
          "name": "stdout",
          "text": [
            "hprebn          | exact: False | approximate: True  | maxdiff: 9.313225746154785e-10\n"
          ]
        }
      ],
      "source": [
        "# backward pass\n",
        "\n",
        "# before we had:\n",
        "# dbnraw = bngain * dhpreact\n",
        "# dbndiff = bnvar_inv * dbnraw\n",
        "# dbnvar_inv = (bndiff * dbnraw).sum(0, keepdim=True)\n",
        "# dbnvar = (-0.5*(bnvar + 1e-5)**-1.5) * dbnvar_inv\n",
        "# dbndiff2 = (1.0/(n-1))*torch.ones_like(bndiff2) * dbnvar\n",
        "# dbndiff += (2*bndiff) * dbndiff2\n",
        "# dhprebn = dbndiff.clone()\n",
        "# dbnmeani = (-dbndiff).sum(0)\n",
        "# dhprebn += 1.0/n * (torch.ones_like(hprebn) * dbnmeani)\n",
        "\n",
        "# calculate dhprebn given dhpreact (i.e. backprop through the batchnorm)\n",
        "# (you'll also need to use some of the variables from the forward pass up above)\n",
        "\n",
        "# -----------------\n",
        "# YOUR CODE HERE :)\n",
        "dhprebn = None # TODO. my solution is 1 (long) line\n",
        "\n",
        "dhprebn = bngain*bnvar_inv/n * (n*dhpreact - dhpreact.sum(0) - n/(n-1)*bnraw*(dhpreact*bnraw).sum(0))\n",
        "# -----------------\n",
        "\n",
        "cmp('hprebn', dhprebn, hprebn) # I can only get approximate to be true, my maxdiff is 9e-10"
      ]
    },
    {
      "cell_type": "code",
      "execution_count": 67,
      "metadata": {
        "id": "wPy8DhqB8PPz",
        "colab": {
          "base_uri": "https://localhost:8080/"
        },
        "outputId": "7b8f2d70-2686-4524-e6be-7c3c64915f78"
      },
      "outputs": [
        {
          "output_type": "stream",
          "name": "stdout",
          "text": [
            "12297\n",
            "      0/  20000: 3.7929\n",
            "    100/  20000: 2.3459\n",
            "    200/  20000: 2.8403\n",
            "    300/  20000: 2.5686\n",
            "    400/  20000: 2.4924\n",
            "    500/  20000: 2.7745\n",
            "    600/  20000: 2.4404\n",
            "    700/  20000: 2.4107\n",
            "    800/  20000: 2.4196\n",
            "    900/  20000: 2.1611\n",
            "   1000/  20000: 2.2405\n",
            "   1100/  20000: 2.2615\n",
            "   1200/  20000: 2.7151\n",
            "   1300/  20000: 2.7365\n",
            "   1400/  20000: 2.3041\n",
            "   1500/  20000: 2.4388\n",
            "   1600/  20000: 2.5840\n",
            "   1700/  20000: 2.3552\n",
            "   1800/  20000: 2.3217\n",
            "   1900/  20000: 2.3455\n",
            "   2000/  20000: 2.3100\n",
            "   2100/  20000: 2.4574\n",
            "   2200/  20000: 1.9511\n",
            "   2300/  20000: 2.4369\n",
            "   2400/  20000: 2.9170\n",
            "   2500/  20000: 2.3752\n",
            "   2600/  20000: 2.2959\n",
            "   2700/  20000: 2.1882\n",
            "   2800/  20000: 2.2340\n",
            "   2900/  20000: 2.2672\n",
            "   3000/  20000: 2.2259\n",
            "   3100/  20000: 2.6343\n",
            "   3200/  20000: 2.1732\n",
            "   3300/  20000: 2.2215\n",
            "   3400/  20000: 2.2508\n",
            "   3500/  20000: 2.4060\n",
            "   3600/  20000: 2.1021\n",
            "   3700/  20000: 2.1940\n",
            "   3800/  20000: 2.4077\n",
            "   3900/  20000: 2.3560\n",
            "   4000/  20000: 2.2141\n",
            "   4100/  20000: 2.4458\n",
            "   4200/  20000: 2.4400\n",
            "   4300/  20000: 2.5915\n",
            "   4400/  20000: 2.1330\n",
            "   4500/  20000: 2.1248\n",
            "   4600/  20000: 2.1473\n",
            "   4700/  20000: 2.1891\n",
            "   4800/  20000: 2.2132\n",
            "   4900/  20000: 2.4932\n",
            "   5000/  20000: 2.2961\n",
            "   5100/  20000: 2.3625\n",
            "   5200/  20000: 2.1363\n",
            "   5300/  20000: 1.9469\n",
            "   5400/  20000: 2.7324\n",
            "   5500/  20000: 2.5001\n",
            "   5600/  20000: 2.4595\n",
            "   5700/  20000: 2.3897\n",
            "   5800/  20000: 2.3385\n",
            "   5900/  20000: 1.9507\n",
            "   6000/  20000: 2.0938\n",
            "   6100/  20000: 2.4521\n",
            "   6200/  20000: 2.5479\n",
            "   6300/  20000: 2.3278\n",
            "   6400/  20000: 2.5149\n",
            "   6500/  20000: 2.1523\n",
            "   6600/  20000: 2.4211\n",
            "   6700/  20000: 2.3440\n",
            "   6800/  20000: 2.1121\n",
            "   6900/  20000: 2.4073\n",
            "   7000/  20000: 2.4376\n",
            "   7100/  20000: 2.3250\n",
            "   7200/  20000: 2.2720\n",
            "   7300/  20000: 2.2298\n",
            "   7400/  20000: 2.1330\n",
            "   7500/  20000: 2.4159\n",
            "   7600/  20000: 2.6793\n",
            "   7700/  20000: 1.9641\n",
            "   7800/  20000: 2.0550\n",
            "   7900/  20000: 2.4971\n",
            "   8000/  20000: 2.0319\n",
            "   8100/  20000: 2.2667\n",
            "   8200/  20000: 2.6369\n",
            "   8300/  20000: 2.2921\n",
            "   8400/  20000: 2.3760\n",
            "   8500/  20000: 2.4952\n",
            "   8600/  20000: 2.3267\n",
            "   8700/  20000: 2.0345\n",
            "   8800/  20000: 2.2049\n",
            "   8900/  20000: 2.3566\n",
            "   9000/  20000: 2.2181\n",
            "   9100/  20000: 2.0571\n",
            "   9200/  20000: 1.9081\n",
            "   9300/  20000: 2.3302\n",
            "   9400/  20000: 2.5619\n",
            "   9500/  20000: 2.6090\n",
            "   9600/  20000: 2.3076\n",
            "   9700/  20000: 2.7297\n",
            "   9800/  20000: 2.2678\n",
            "   9900/  20000: 2.0692\n",
            "  10000/  20000: 2.1968\n",
            "  10100/  20000: 2.5012\n",
            "  10200/  20000: 2.5145\n",
            "  10300/  20000: 1.9570\n",
            "  10400/  20000: 2.7454\n",
            "  10500/  20000: 2.3209\n",
            "  10600/  20000: 2.3508\n",
            "  10700/  20000: 2.2068\n",
            "  10800/  20000: 2.2736\n",
            "  10900/  20000: 2.3505\n",
            "  11000/  20000: 1.8908\n",
            "  11100/  20000: 2.0382\n",
            "  11200/  20000: 2.0743\n",
            "  11300/  20000: 2.3442\n",
            "  11400/  20000: 2.2935\n",
            "  11500/  20000: 2.2236\n",
            "  11600/  20000: 2.1556\n",
            "  11700/  20000: 2.1379\n",
            "  11800/  20000: 2.2650\n",
            "  11900/  20000: 2.6201\n",
            "  12000/  20000: 2.2200\n",
            "  12100/  20000: 1.9029\n",
            "  12200/  20000: 2.5227\n",
            "  12300/  20000: 2.3228\n",
            "  12400/  20000: 2.2442\n",
            "  12500/  20000: 2.1468\n",
            "  12600/  20000: 2.5116\n",
            "  12700/  20000: 2.1456\n",
            "  12800/  20000: 2.2473\n",
            "  12900/  20000: 2.2431\n",
            "  13000/  20000: 2.1985\n",
            "  13100/  20000: 2.4358\n",
            "  13200/  20000: 2.4941\n",
            "  13300/  20000: 2.1651\n",
            "  13400/  20000: 2.4349\n",
            "  13500/  20000: 2.4708\n",
            "  13600/  20000: 2.3253\n",
            "  13700/  20000: 2.2891\n",
            "  13800/  20000: 2.3719\n",
            "  13900/  20000: 1.9655\n",
            "  14000/  20000: 2.6684\n",
            "  14100/  20000: 2.5436\n",
            "  14200/  20000: 2.0752\n",
            "  14300/  20000: 2.3935\n",
            "  14400/  20000: 2.2194\n",
            "  14500/  20000: 2.7208\n",
            "  14600/  20000: 2.3106\n",
            "  14700/  20000: 2.2340\n",
            "  14800/  20000: 2.4812\n",
            "  14900/  20000: 2.2252\n",
            "  15000/  20000: 2.1470\n",
            "  15100/  20000: 2.2706\n",
            "  15200/  20000: 2.7764\n",
            "  15300/  20000: 2.3839\n",
            "  15400/  20000: 2.1039\n",
            "  15500/  20000: 1.9609\n",
            "  15600/  20000: 2.3878\n",
            "  15700/  20000: 2.3903\n",
            "  15800/  20000: 2.4905\n",
            "  15900/  20000: 2.3914\n",
            "  16000/  20000: 2.4818\n",
            "  16100/  20000: 2.1948\n",
            "  16200/  20000: 2.1042\n",
            "  16300/  20000: 2.6608\n",
            "  16400/  20000: 2.2681\n",
            "  16500/  20000: 2.2674\n",
            "  16600/  20000: 2.1722\n",
            "  16700/  20000: 2.1457\n",
            "  16800/  20000: 2.3372\n",
            "  16900/  20000: 2.1851\n",
            "  17000/  20000: 2.2448\n",
            "  17100/  20000: 2.2386\n",
            "  17200/  20000: 2.3546\n",
            "  17300/  20000: 2.4050\n",
            "  17400/  20000: 2.5049\n",
            "  17500/  20000: 2.0858\n",
            "  17600/  20000: 2.0202\n",
            "  17700/  20000: 2.2394\n",
            "  17800/  20000: 2.3096\n",
            "  17900/  20000: 2.4385\n",
            "  18000/  20000: 2.0037\n",
            "  18100/  20000: 2.4125\n",
            "  18200/  20000: 2.4070\n",
            "  18300/  20000: 2.1217\n",
            "  18400/  20000: 2.4691\n",
            "  18500/  20000: 1.8943\n",
            "  18600/  20000: 2.4212\n",
            "  18700/  20000: 2.4026\n",
            "  18800/  20000: 2.4247\n",
            "  18900/  20000: 2.1489\n",
            "  19000/  20000: 2.4095\n",
            "  19100/  20000: 2.2687\n",
            "  19200/  20000: 2.0005\n",
            "  19300/  20000: 2.3163\n",
            "  19400/  20000: 2.2191\n",
            "  19500/  20000: 1.9261\n",
            "  19600/  20000: 2.5307\n",
            "  19700/  20000: 2.3219\n",
            "  19800/  20000: 2.3474\n",
            "  19900/  20000: 1.9852\n"
          ]
        }
      ],
      "source": [
        "# Exercise 4: putting it all together!\n",
        "# Train the MLP neural net with your own backward pass\n",
        "\n",
        "# init\n",
        "n_embd = 10 # the dimensionality of the character embedding vectors\n",
        "n_hidden = 200 # the number of neurons in the hidden layer of the MLP\n",
        "\n",
        "g = torch.Generator().manual_seed(2147483647) # for reproducibility\n",
        "C  = torch.randn((vocab_size, n_embd),            generator=g)\n",
        "# Layer 1\n",
        "W1 = torch.randn((n_embd * block_size, n_hidden), generator=g) * (5/3)/((n_embd * block_size)**0.5)\n",
        "b1 = torch.randn(n_hidden,                        generator=g) * 0.1\n",
        "# Layer 2\n",
        "W2 = torch.randn((n_hidden, vocab_size),          generator=g) * 0.1\n",
        "b2 = torch.randn(vocab_size,                      generator=g) * 0.1\n",
        "# BatchNorm parameters\n",
        "bngain = torch.randn((1, n_hidden))*0.1 + 1.0\n",
        "bnbias = torch.randn((1, n_hidden))*0.1\n",
        "\n",
        "parameters = [C, W1, b1, W2, b2, bngain, bnbias]\n",
        "print(sum(p.nelement() for p in parameters)) # number of parameters in total\n",
        "for p in parameters:\n",
        "  p.requires_grad = True\n",
        "\n",
        "# same optimization as last time\n",
        "max_steps = 20000\n",
        "batch_size = 32\n",
        "n = batch_size # convenience\n",
        "lossi = []\n",
        "\n",
        "# use this context manager for efficiency once your backward pass is written (TODO)\n",
        "#with torch.no_grad():\n",
        "\n",
        "# kick off optimization\n",
        "for i in range(max_steps):\n",
        "  # if i >= 100: # TODO: delete early breaking when you're ready to train the full net\n",
        "  #   break\n",
        "\n",
        "  # minibatch construct\n",
        "  ix = torch.randint(0, Xtr.shape[0], (batch_size,), generator=g)\n",
        "  Xb, Yb = Xtr[ix], Ytr[ix] # batch X,Y\n",
        "\n",
        "  # forward pass\n",
        "  emb = C[Xb] # embed the characters into vectors\n",
        "  embcat = emb.view(emb.shape[0], -1) # concatenate the vectors\n",
        "  # Linear layer\n",
        "  hprebn = embcat @ W1 + b1 # hidden layer pre-activation\n",
        "  # BatchNorm layer\n",
        "  # -------------------------------------------------------------\n",
        "  bnmean = hprebn.mean(0, keepdim=True)\n",
        "  bnvar = hprebn.var(0, keepdim=True, unbiased=True)\n",
        "  bnvar_inv = (bnvar + 1e-5)**-0.5\n",
        "  bnraw = (hprebn - bnmean) * bnvar_inv\n",
        "  hpreact = bngain * bnraw + bnbias\n",
        "  # -------------------------------------------------------------\n",
        "  # Non-linearity\n",
        "  h = torch.tanh(hpreact) # hidden layer\n",
        "  logits = h @ W2 + b2 # output layer\n",
        "  loss = F.cross_entropy(logits, Yb) # loss function\n",
        "\n",
        "  # backward pass\n",
        "  for p in parameters:\n",
        "    p.grad = None\n",
        "  # loss.backward() # use this for correctness comparisons, delete it later!\n",
        "\n",
        "  # manual backprop! #swole_doge_meme\n",
        "  # -----------------\n",
        "  # YOUR CODE HERE :)\n",
        "  dlogits = F.softmax(logits, dim=1)\n",
        "  dlogits[range(logits.shape[0]), Yb] -= 1\n",
        "  dlogits /= logits.shape[0]\n",
        "\n",
        "  dh = dlogits @ W2.T\n",
        "  dW2 = h.T @ dlogits # (32, 64).T @ (32, 27) = (64, 27)\n",
        "  db2 = dlogits.sum(0)\n",
        "\n",
        "  dhpreact = (1.0 - h**2) * dh\n",
        "\n",
        "  dbngain = (bnraw * dhpreact).sum(0, keepdim=True)\n",
        "  dbnbias = dhpreact.sum(0, keepdim=True)\n",
        "  dhprebn = bngain*bnvar_inv/n * (n*dhpreact - dhpreact.sum(0) - n/(n-1)*bnraw*(dhpreact*bnraw).sum(0))\n",
        "\n",
        "  dembcat = dhprebn @ W1.T\n",
        "  dW1 = embcat.T @ dhprebn\n",
        "  db1 = dhprebn.sum(0)\n",
        "  demb = dembcat.view(emb.shape)\n",
        "  dC = torch.zeros_like(C)\n",
        "  for row in range(Xb.shape[0]):\n",
        "    for col in range(Xb.shape[1]):\n",
        "      dC[Xb[row, col]] += demb[row, col]\n",
        "  grads = [dC, dW1, db1, dW2, db2, dbngain, dbnbias]\n",
        "  # update\n",
        "  lr = 0.1 if i < 100000 else 0.01 # step learning rate decay\n",
        "  for p, grad in zip(parameters, grads):\n",
        "    # p.data += -lr * p.grad # old way of cheems doge (using PyTorch grad from .backward())\n",
        "    p.data += -lr * grad # new way of swole doge TODO: enable\n",
        "  # track stats\n",
        "  if i % 100 == 0: # print every once in a while\n",
        "    print(f'{i:7d}/{max_steps:7d}: {loss.item():.4f}')\n",
        "  lossi.append(loss.log10().item())\n"
      ]
    },
    {
      "cell_type": "code",
      "execution_count": 56,
      "metadata": {
        "id": "ZEpI0hMW8PPz",
        "colab": {
          "base_uri": "https://localhost:8080/"
        },
        "outputId": "0523317b-65e0-4cb3-a89f-46de8103907d"
      },
      "outputs": [
        {
          "output_type": "stream",
          "name": "stdout",
          "text": [
            "0 torch.Size([27, 10]) torch.Size([27, 10])\n",
            "(27, 10)        | exact: False | approximate: True  | maxdiff: 1.6763806343078613e-08\n",
            "1 torch.Size([30, 200]) torch.Size([30, 200])\n",
            "(30, 200)       | exact: False | approximate: True  | maxdiff: 8.149072527885437e-09\n",
            "2 torch.Size([200]) torch.Size([1, 200])\n",
            "(200,)          | exact: False | approximate: True  | maxdiff: 4.6566128730773926e-09\n",
            "3 torch.Size([200, 27]) torch.Size([200, 27])\n",
            "(200, 27)       | exact: False | approximate: True  | maxdiff: 1.1175870895385742e-08\n",
            "4 torch.Size([27]) torch.Size([27])\n",
            "(27,)           | exact: False | approximate: True  | maxdiff: 7.450580596923828e-09\n",
            "5 torch.Size([1, 200]) torch.Size([1, 200])\n",
            "(1, 200)        | exact: False | approximate: True  | maxdiff: 2.7939677238464355e-09\n",
            "6 torch.Size([1, 200]) torch.Size([1, 200])\n",
            "(1, 200)        | exact: False | approximate: True  | maxdiff: 3.841705620288849e-09\n"
          ]
        }
      ],
      "source": [
        "# useful for checking your gradients\n",
        "# i = 0\n",
        "# for p,g in zip(parameters, grads):\n",
        "#   print(i, p.shape, g.shape)\n",
        "#   i += 1\n",
        "#   cmp(str(tuple(p.shape)), g, p)"
      ]
    },
    {
      "cell_type": "code",
      "execution_count": 68,
      "metadata": {
        "id": "KImLWNoh8PP0"
      },
      "outputs": [],
      "source": [
        "# calibrate the batch norm at the end of training\n",
        "\n",
        "with torch.no_grad():\n",
        "  # pass the training set through\n",
        "  emb = C[Xtr]\n",
        "  embcat = emb.view(emb.shape[0], -1)\n",
        "  hpreact = embcat @ W1 + b1\n",
        "  # measure the mean/std over the entire training set\n",
        "  bnmean = hpreact.mean(0, keepdim=True)\n",
        "  bnvar = hpreact.var(0, keepdim=True, unbiased=True)\n"
      ]
    },
    {
      "cell_type": "code",
      "execution_count": 69,
      "metadata": {
        "id": "6aFnP_Zc8PP0",
        "colab": {
          "base_uri": "https://localhost:8080/"
        },
        "outputId": "0439ae5f-0537-493f-9bdf-b9e5f36033bd"
      },
      "outputs": [
        {
          "output_type": "stream",
          "name": "stdout",
          "text": [
            "train 2.2119932174682617\n",
            "val 2.2290327548980713\n"
          ]
        }
      ],
      "source": [
        "# evaluate train and val loss\n",
        "\n",
        "@torch.no_grad() # this decorator disables gradient tracking\n",
        "def split_loss(split):\n",
        "  x,y = {\n",
        "    'train': (Xtr, Ytr),\n",
        "    'val': (Xdev, Ydev),\n",
        "    'test': (Xte, Yte),\n",
        "  }[split]\n",
        "  emb = C[x] # (N, block_size, n_embd)\n",
        "  embcat = emb.view(emb.shape[0], -1) # concat into (N, block_size * n_embd)\n",
        "  hpreact = embcat @ W1 + b1\n",
        "  hpreact = bngain * (hpreact - bnmean) * (bnvar + 1e-5)**-0.5 + bnbias\n",
        "  h = torch.tanh(hpreact) # (N, n_hidden)\n",
        "  logits = h @ W2 + b2 # (N, vocab_size)\n",
        "  loss = F.cross_entropy(logits, y)\n",
        "  print(split, loss.item())\n",
        "\n",
        "split_loss('train')\n",
        "split_loss('val')"
      ]
    },
    {
      "cell_type": "code",
      "execution_count": null,
      "metadata": {
        "id": "esWqmhyj8PP1"
      },
      "outputs": [],
      "source": [
        "# I achieved:\n",
        "# train 2.0718822479248047\n",
        "# val 2.1162495613098145"
      ]
    },
    {
      "cell_type": "code",
      "execution_count": 70,
      "metadata": {
        "id": "xHeQNv3s8PP1",
        "colab": {
          "base_uri": "https://localhost:8080/"
        },
        "outputId": "7889a8dc-d2ad-4ab6-c6c8-e8f98398c609"
      },
      "outputs": [
        {
          "output_type": "stream",
          "name": "stdout",
          "text": [
            "mri.\n",
            "almyah.\n",
            "keel.\n",
            "ndheyah.\n",
            "rethruthadrie.\n",
            "radeled.\n",
            "elin.\n",
            "shi.\n",
            "jen.\n",
            "eden.\n",
            "estana.\n",
            "analeigh.\n",
            "karin.\n",
            "sadbergihi.\n",
            "jest.\n",
            "jair.\n",
            "jeliox.\n",
            "terorouberted.\n",
            "ruy.\n",
            "julieh.\n"
          ]
        }
      ],
      "source": [
        "# sample from the model\n",
        "g = torch.Generator().manual_seed(2147483647 + 10)\n",
        "\n",
        "for _ in range(20):\n",
        "\n",
        "    out = []\n",
        "    context = [0] * block_size # initialize with all ...\n",
        "    while True:\n",
        "      # forward pass\n",
        "      emb = C[torch.tensor([context])] # (1,block_size,d)\n",
        "      embcat = emb.view(emb.shape[0], -1) # concat into (N, block_size * n_embd)\n",
        "      hpreact = embcat @ W1 + b1\n",
        "      hpreact = bngain * (hpreact - bnmean) * (bnvar + 1e-5)**-0.5 + bnbias\n",
        "      h = torch.tanh(hpreact) # (N, n_hidden)\n",
        "      logits = h @ W2 + b2 # (N, vocab_size)\n",
        "      # sample\n",
        "      probs = F.softmax(logits, dim=1)\n",
        "      ix = torch.multinomial(probs, num_samples=1, generator=g).item()\n",
        "      context = context[1:] + [ix]\n",
        "      out.append(ix)\n",
        "      if ix == 0:\n",
        "        break\n",
        "\n",
        "    print(''.join(itos[i] for i in out))"
      ]
    },
    {
      "cell_type": "markdown",
      "source": [
        "# Why does batch norm use Bessel's correction?\n",
        "Why does batch norm use Bessel's correction?\n",
        "\n",
        "\n",
        "在统计学中，无偏估计量是指其期望值等于被估计的参数的真实值。对于总体方差的无偏估计，样本方差的分母应该是 𝑛−1而不是 𝑛。这是因为样本均值本身是从样本中计算出来的，它会影响方差的计算。通过用 𝑛−1，我们校正了这种影响，使得估计的方差更接近总体方差。\n",
        "\n",
        "在batch norm的原文中训练的时候用的是有偏估计，推理（test）的时候用的是无偏估计，pytorch的batchnorm复刻了原文的用法。Andrej认为训练和推理都应该用无偏估计，尤其是batch size比较小的时候，如果batch size很大的话影响不大。\n",
        "\n",
        "---\n",
        "\n"
      ],
      "metadata": {
        "id": "9-_hHORTA4nU"
      }
    }
  ],
  "metadata": {
    "colab": {
      "provenance": [],
      "include_colab_link": true
    },
    "kernelspec": {
      "display_name": "Python 3",
      "language": "python",
      "name": "python3"
    },
    "language_info": {
      "codemirror_mode": {
        "name": "ipython",
        "version": 3
      },
      "file_extension": ".py",
      "mimetype": "text/x-python",
      "name": "python",
      "nbconvert_exporter": "python",
      "pygments_lexer": "ipython3",
      "version": "3.8.5"
    }
  },
  "nbformat": 4,
  "nbformat_minor": 0
}